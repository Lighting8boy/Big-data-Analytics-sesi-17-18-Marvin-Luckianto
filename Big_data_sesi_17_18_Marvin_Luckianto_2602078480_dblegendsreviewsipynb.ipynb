{
  "nbformat": 4,
  "nbformat_minor": 0,
  "metadata": {
    "colab": {
      "provenance": []
    },
    "kernelspec": {
      "name": "python3",
      "display_name": "Python 3"
    },
    "language_info": {
      "name": "python"
    }
  },
  "cells": [
    {
      "cell_type": "code",
      "execution_count": null,
      "metadata": {
        "colab": {
          "base_uri": "https://localhost:8080/"
        },
        "id": "TAXztEsJWMLY",
        "outputId": "284eadfb-c21a-474a-b916-22b9a42c7a33"
      },
      "outputs": [
        {
          "output_type": "stream",
          "name": "stdout",
          "text": [
            "Requirement already satisfied: google-play-scraper in /usr/local/lib/python3.10/dist-packages (1.2.7)\n",
            "Requirement already satisfied: nltk in /usr/local/lib/python3.10/dist-packages (3.9.1)\n",
            "Requirement already satisfied: click in /usr/local/lib/python3.10/dist-packages (from nltk) (8.1.7)\n",
            "Requirement already satisfied: joblib in /usr/local/lib/python3.10/dist-packages (from nltk) (1.4.2)\n",
            "Requirement already satisfied: regex>=2021.8.3 in /usr/local/lib/python3.10/dist-packages (from nltk) (2024.9.11)\n",
            "Requirement already satisfied: tqdm in /usr/local/lib/python3.10/dist-packages (from nltk) (4.66.6)\n"
          ]
        }
      ],
      "source": [
        "!pip install google-play-scraper\n",
        "!pip install nltk\n"
      ]
    },
    {
      "cell_type": "code",
      "source": [
        "from google_play_scraper import reviews\n",
        "import pandas as pd\n",
        "\n",
        "# Mengambil review\n",
        "reviews_data, _ = reviews(\n",
        "    'com.bandainamcoent.dblegends_ww',\n",
        "    lang='en',  # Bahasa Inggris\n",
        "    country='us',  # Negara USA (United States of America)\n",
        "    count=100  # Jumlah ulasan\n",
        ")\n",
        "\n",
        "# Membuat DataFrame\n",
        "df = pd.DataFrame(reviews_data)\n",
        "df.to_csv('dblegendsreviews.csv', index=False)\n",
        "print(df.head())\n"
      ],
      "metadata": {
        "colab": {
          "base_uri": "https://localhost:8080/"
        },
        "id": "Mh_FIogglysS",
        "outputId": "4c40be01-5ba2-4c93-bf78-a025d42adaca"
      },
      "execution_count": null,
      "outputs": [
        {
          "output_type": "stream",
          "name": "stdout",
          "text": [
            "                               reviewId          userName  \\\n",
            "0  3b6522c9-1d1c-4199-b6bb-3a1bc621cca3  Thomas Gillespie   \n",
            "1  5887e276-4646-4869-aae8-c917941154b0       Vansh Singh   \n",
            "2  d26fd9b9-d52b-49b5-89c2-9c0f3880fa9e          Kaiyoshi   \n",
            "3  18e80f01-af5d-46db-9f78-37e037c2e9f1     Simran Sharma   \n",
            "4  0e96427e-a948-4d58-8338-482bfa942bef     Anjana Mondal   \n",
            "\n",
            "                                           userImage  \\\n",
            "0  https://play-lh.googleusercontent.com/a/ACg8oc...   \n",
            "1  https://play-lh.googleusercontent.com/a/ACg8oc...   \n",
            "2  https://play-lh.googleusercontent.com/a-/ALV-U...   \n",
            "3  https://play-lh.googleusercontent.com/a-/ALV-U...   \n",
            "4  https://play-lh.googleusercontent.com/a/ACg8oc...   \n",
            "\n",
            "                                             content  score  thumbsUpCount  \\\n",
            "0  Toshi fix them rose banner is keep getting sha...      1              2   \n",
            "1                                   I love this game      5              0   \n",
            "2  its great game ever, but there is a problem, m...      4              0   \n",
            "3                       It is the best animated game      5              0   \n",
            "4  God geme ❤️❤️❤️❤️❤️❤️❤️❤️❤️❤️❤️❤️❤️❤️❤️❤️❤️❤️❤...      5              0   \n",
            "\n",
            "  reviewCreatedVersion                  at replyContent repliedAt appVersion  \n",
            "0                 None 2024-11-26 09:39:46         None      None       None  \n",
            "1               5.11.0 2024-11-26 09:37:56         None      None     5.11.0  \n",
            "2               5.11.0 2024-11-26 09:33:56         None      None     5.11.0  \n",
            "3               4.31.0 2024-11-26 09:23:28         None      None     4.31.0  \n",
            "4               5.11.0 2024-11-26 09:18:45         None      None     5.11.0  \n"
          ]
        }
      ]
    },
    {
      "source": [
        "import re\n",
        "import string\n",
        "from nltk.tokenize import word_tokenize\n",
        "from nltk.corpus import stopwords\n",
        "import nltk\n",
        "\n",
        "# Download necessary NLTK resources\n",
        "nltk.download('punkt')\n",
        "nltk.download('stopwords')\n",
        "nltk.download('punkt_tab') # This line is added to download the missing resource\n",
        "\n",
        "# Membersihkan teks\n",
        "def clean_text(text):\n",
        "    text = re.sub(r\"http\\S+\", \"\", text)\n",
        "    text = re.sub(r\"\\d+\", \"\", text)\n",
        "    text = text.translate(str.maketrans(\"\", \"\", string.punctuation))\n",
        "    text = text.lower()\n",
        "    return text\n",
        "\n",
        "# Menambah kolom teks bersih\n",
        "df['cleaned_text'] = df['content'].apply(clean_text)\n",
        "\n",
        "# Tokenisasi\n",
        "df['tokens'] = df['cleaned_text'].apply(word_tokenize)\n",
        "\n",
        "# Menghapus stopwords\n",
        "stop_words = set(stopwords.words('english'))\n",
        "df['tokens'] = df['tokens'].apply(lambda x: [word for word in x if word not in stop_words])\n",
        "\n",
        "print(df[['cleaned_text', 'tokens']].head())"
      ],
      "cell_type": "code",
      "metadata": {
        "colab": {
          "base_uri": "https://localhost:8080/"
        },
        "id": "VobPli-OqqzW",
        "outputId": "29567583-c40f-4e93-b2ba-33360b871251"
      },
      "execution_count": null,
      "outputs": [
        {
          "output_type": "stream",
          "name": "stdout",
          "text": [
            "                                        cleaned_text  \\\n",
            "0  toshi fix them rose banner is keep getting sha...   \n",
            "1                                   i love this game   \n",
            "2  its great game ever but there is a problem muc...   \n",
            "3                       it is the best animated game   \n",
            "4  god geme ❤️❤️❤️❤️❤️❤️❤️❤️❤️❤️❤️❤️❤️❤️❤️❤️❤️❤️❤...   \n",
            "\n",
            "                                              tokens  \n",
            "0  [toshi, fix, rose, banner, keep, getting, shaf...  \n",
            "1                                       [love, game]  \n",
            "2  [great, game, ever, problem, much, like, pvp, ...  \n",
            "3                             [best, animated, game]  \n",
            "4  [god, geme, ❤️❤️❤️❤️❤️❤️❤️❤️❤️❤️❤️❤️❤️❤️❤️❤️❤️...  \n"
          ]
        },
        {
          "output_type": "stream",
          "name": "stderr",
          "text": [
            "[nltk_data] Downloading package punkt to /root/nltk_data...\n",
            "[nltk_data]   Package punkt is already up-to-date!\n",
            "[nltk_data] Downloading package stopwords to /root/nltk_data...\n",
            "[nltk_data]   Package stopwords is already up-to-date!\n",
            "[nltk_data] Downloading package punkt_tab to /root/nltk_data...\n",
            "[nltk_data]   Package punkt_tab is already up-to-date!\n"
          ]
        }
      ]
    },
    {
      "cell_type": "code",
      "source": [
        "from sklearn.feature_extraction.text import TfidfVectorizer\n",
        "\n",
        "tfidf = TfidfVectorizer(max_features=5000)\n",
        "X = tfidf.fit_transform(df['cleaned_text']).toarray()\n",
        "\n",
        "# Label sentimen berdasarkan skor\n",
        "def label_sentiment(score):\n",
        "    if score >= 4:\n",
        "        return \"Positive\"\n",
        "    elif score == 3:\n",
        "        return \"Neutral\"\n",
        "    else:\n",
        "        return \"Negative\"\n",
        "\n",
        "df['sentiment'] = df['score'].apply(label_sentiment)\n",
        "print(df['sentiment'].value_counts())\n"
      ],
      "metadata": {
        "colab": {
          "base_uri": "https://localhost:8080/"
        },
        "id": "89xdJcHHquS4",
        "outputId": "47c40174-2286-48d4-bbcb-60880a1ad978"
      },
      "execution_count": null,
      "outputs": [
        {
          "output_type": "stream",
          "name": "stdout",
          "text": [
            "sentiment\n",
            "Positive    64\n",
            "Negative    32\n",
            "Neutral      4\n",
            "Name: count, dtype: int64\n"
          ]
        }
      ]
    },
    {
      "cell_type": "code",
      "source": [
        "from sklearn.model_selection import train_test_split\n",
        "from sklearn.naive_bayes import MultinomialNB\n",
        "from sklearn.svm import SVC\n",
        "from sklearn.metrics import classification_report, accuracy_score\n",
        "\n",
        "# Split data\n",
        "X_train, X_test, y_train, y_test = train_test_split(X, df['sentiment'], test_size=0.2, random_state=42)\n",
        "\n",
        "# Naive Bayes\n",
        "nb_model = MultinomialNB()\n",
        "nb_model.fit(X_train, y_train)\n",
        "y_pred_nb = nb_model.predict(X_test)\n",
        "\n",
        "print(\"Naive Bayes Classification Report:\")\n",
        "print(classification_report(y_test, y_pred_nb))\n",
        "print(\"Naive Bayes Accuracy:\", accuracy_score(y_test, y_pred_nb))\n",
        "\n",
        "# SVM\n",
        "svm_model = SVC(kernel='linear')\n",
        "svm_model.fit(X_train, y_train)\n",
        "y_pred_svm = svm_model.predict(X_test)\n",
        "\n",
        "print(\"SVM Classification Report:\")\n",
        "print(classification_report(y_test, y_pred_svm))\n",
        "print(\"SVM Accuracy:\", accuracy_score(y_test, y_pred_svm))\n"
      ],
      "metadata": {
        "colab": {
          "base_uri": "https://localhost:8080/"
        },
        "id": "ZA9LkpDJq0aw",
        "outputId": "61fcc32b-cdcd-44a7-eb34-6906731316b3"
      },
      "execution_count": null,
      "outputs": [
        {
          "output_type": "stream",
          "name": "stdout",
          "text": [
            "Naive Bayes Classification Report:\n",
            "              precision    recall  f1-score   support\n",
            "\n",
            "    Negative       0.00      0.00      0.00         9\n",
            "     Neutral       0.00      0.00      0.00         1\n",
            "    Positive       0.50      1.00      0.67        10\n",
            "\n",
            "    accuracy                           0.50        20\n",
            "   macro avg       0.17      0.33      0.22        20\n",
            "weighted avg       0.25      0.50      0.33        20\n",
            "\n",
            "Naive Bayes Accuracy: 0.5\n",
            "SVM Classification Report:\n",
            "              precision    recall  f1-score   support\n",
            "\n",
            "    Negative       0.80      0.44      0.57         9\n",
            "     Neutral       0.00      0.00      0.00         1\n",
            "    Positive       0.67      1.00      0.80        10\n",
            "\n",
            "    accuracy                           0.70        20\n",
            "   macro avg       0.49      0.48      0.46        20\n",
            "weighted avg       0.69      0.70      0.66        20\n",
            "\n",
            "SVM Accuracy: 0.7\n"
          ]
        },
        {
          "output_type": "stream",
          "name": "stderr",
          "text": [
            "/usr/local/lib/python3.10/dist-packages/sklearn/metrics/_classification.py:1531: UndefinedMetricWarning: Precision is ill-defined and being set to 0.0 in labels with no predicted samples. Use `zero_division` parameter to control this behavior.\n",
            "  _warn_prf(average, modifier, f\"{metric.capitalize()} is\", len(result))\n",
            "/usr/local/lib/python3.10/dist-packages/sklearn/metrics/_classification.py:1531: UndefinedMetricWarning: Precision is ill-defined and being set to 0.0 in labels with no predicted samples. Use `zero_division` parameter to control this behavior.\n",
            "  _warn_prf(average, modifier, f\"{metric.capitalize()} is\", len(result))\n",
            "/usr/local/lib/python3.10/dist-packages/sklearn/metrics/_classification.py:1531: UndefinedMetricWarning: Precision is ill-defined and being set to 0.0 in labels with no predicted samples. Use `zero_division` parameter to control this behavior.\n",
            "  _warn_prf(average, modifier, f\"{metric.capitalize()} is\", len(result))\n",
            "/usr/local/lib/python3.10/dist-packages/sklearn/metrics/_classification.py:1531: UndefinedMetricWarning: Precision is ill-defined and being set to 0.0 in labels with no predicted samples. Use `zero_division` parameter to control this behavior.\n",
            "  _warn_prf(average, modifier, f\"{metric.capitalize()} is\", len(result))\n",
            "/usr/local/lib/python3.10/dist-packages/sklearn/metrics/_classification.py:1531: UndefinedMetricWarning: Precision is ill-defined and being set to 0.0 in labels with no predicted samples. Use `zero_division` parameter to control this behavior.\n",
            "  _warn_prf(average, modifier, f\"{metric.capitalize()} is\", len(result))\n",
            "/usr/local/lib/python3.10/dist-packages/sklearn/metrics/_classification.py:1531: UndefinedMetricWarning: Precision is ill-defined and being set to 0.0 in labels with no predicted samples. Use `zero_division` parameter to control this behavior.\n",
            "  _warn_prf(average, modifier, f\"{metric.capitalize()} is\", len(result))\n"
          ]
        }
      ]
    }
  ]
}